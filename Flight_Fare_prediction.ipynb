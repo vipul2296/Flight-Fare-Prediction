{
 "cells": [
  {
   "cell_type": "code",
   "execution_count": 178,
   "metadata": {},
   "outputs": [],
   "source": [
    "import pandas as pd\n",
    "import seaborn as sns\n",
    "import numpy as np\n",
    "from datetime import datetime\n",
    "from xgboost import XGBRegressor\n",
    "from sklearn.metrics import mean_squared_error,r2_score\n",
    "from sklearn.tree import DecisionTreeRegressor\n",
    "from sklearn.ensemble import RandomForestRegressor"
   ]
  },
  {
   "cell_type": "code",
   "execution_count": 151,
   "metadata": {},
   "outputs": [],
   "source": [
    "train=pd.read_excel('D:\\iSmile Technologies\\Side Projects\\Flight Fare prediction\\Flight_Ticket_Participant_Datasets\\Data_train.xlsx')\n",
    "test=pd.read_excel('D:\\iSmile Technologies\\Side Projects\\Flight Fare prediction\\Flight_Ticket_Participant_Datasets\\Test_set.xlsx')"
   ]
  },
  {
   "cell_type": "code",
   "execution_count": 141,
   "metadata": {},
   "outputs": [],
   "source": [
    "submission=pd.read_excel('D:\\iSmile Technologies\\Side Projects\\Flight Fare prediction\\Flight_Ticket_Participant_Datasets\\Sample_submission.xlsx')"
   ]
  },
  {
   "cell_type": "code",
   "execution_count": 7,
   "metadata": {},
   "outputs": [
    {
     "data": {
      "text/plain": [
       "((10683, 11), (2671, 10))"
      ]
     },
     "execution_count": 7,
     "metadata": {},
     "output_type": "execute_result"
    }
   ],
   "source": [
    "train.shape,test.shape"
   ]
  },
  {
   "cell_type": "code",
   "execution_count": 6,
   "metadata": {},
   "outputs": [
    {
     "data": {
      "text/html": [
       "<div>\n",
       "<style scoped>\n",
       "    .dataframe tbody tr th:only-of-type {\n",
       "        vertical-align: middle;\n",
       "    }\n",
       "\n",
       "    .dataframe tbody tr th {\n",
       "        vertical-align: top;\n",
       "    }\n",
       "\n",
       "    .dataframe thead th {\n",
       "        text-align: right;\n",
       "    }\n",
       "</style>\n",
       "<table border=\"1\" class=\"dataframe\">\n",
       "  <thead>\n",
       "    <tr style=\"text-align: right;\">\n",
       "      <th></th>\n",
       "      <th>Airline</th>\n",
       "      <th>Date_of_Journey</th>\n",
       "      <th>Source</th>\n",
       "      <th>Destination</th>\n",
       "      <th>Route</th>\n",
       "      <th>Dep_Time</th>\n",
       "      <th>Arrival_Time</th>\n",
       "      <th>Duration</th>\n",
       "      <th>Total_Stops</th>\n",
       "      <th>Additional_Info</th>\n",
       "      <th>Price</th>\n",
       "    </tr>\n",
       "  </thead>\n",
       "  <tbody>\n",
       "    <tr>\n",
       "      <th>0</th>\n",
       "      <td>IndiGo</td>\n",
       "      <td>24/03/2019</td>\n",
       "      <td>Banglore</td>\n",
       "      <td>New Delhi</td>\n",
       "      <td>BLR → DEL</td>\n",
       "      <td>22:20</td>\n",
       "      <td>01:10 22 Mar</td>\n",
       "      <td>2h 50m</td>\n",
       "      <td>non-stop</td>\n",
       "      <td>No info</td>\n",
       "      <td>3897</td>\n",
       "    </tr>\n",
       "    <tr>\n",
       "      <th>1</th>\n",
       "      <td>Air India</td>\n",
       "      <td>1/05/2019</td>\n",
       "      <td>Kolkata</td>\n",
       "      <td>Banglore</td>\n",
       "      <td>CCU → IXR → BBI → BLR</td>\n",
       "      <td>05:50</td>\n",
       "      <td>13:15</td>\n",
       "      <td>7h 25m</td>\n",
       "      <td>2 stops</td>\n",
       "      <td>No info</td>\n",
       "      <td>7662</td>\n",
       "    </tr>\n",
       "    <tr>\n",
       "      <th>2</th>\n",
       "      <td>Jet Airways</td>\n",
       "      <td>9/06/2019</td>\n",
       "      <td>Delhi</td>\n",
       "      <td>Cochin</td>\n",
       "      <td>DEL → LKO → BOM → COK</td>\n",
       "      <td>09:25</td>\n",
       "      <td>04:25 10 Jun</td>\n",
       "      <td>19h</td>\n",
       "      <td>2 stops</td>\n",
       "      <td>No info</td>\n",
       "      <td>13882</td>\n",
       "    </tr>\n",
       "    <tr>\n",
       "      <th>3</th>\n",
       "      <td>IndiGo</td>\n",
       "      <td>12/05/2019</td>\n",
       "      <td>Kolkata</td>\n",
       "      <td>Banglore</td>\n",
       "      <td>CCU → NAG → BLR</td>\n",
       "      <td>18:05</td>\n",
       "      <td>23:30</td>\n",
       "      <td>5h 25m</td>\n",
       "      <td>1 stop</td>\n",
       "      <td>No info</td>\n",
       "      <td>6218</td>\n",
       "    </tr>\n",
       "    <tr>\n",
       "      <th>4</th>\n",
       "      <td>IndiGo</td>\n",
       "      <td>01/03/2019</td>\n",
       "      <td>Banglore</td>\n",
       "      <td>New Delhi</td>\n",
       "      <td>BLR → NAG → DEL</td>\n",
       "      <td>16:50</td>\n",
       "      <td>21:35</td>\n",
       "      <td>4h 45m</td>\n",
       "      <td>1 stop</td>\n",
       "      <td>No info</td>\n",
       "      <td>13302</td>\n",
       "    </tr>\n",
       "  </tbody>\n",
       "</table>\n",
       "</div>"
      ],
      "text/plain": [
       "       Airline Date_of_Journey    Source Destination                  Route  \\\n",
       "0       IndiGo      24/03/2019  Banglore   New Delhi              BLR → DEL   \n",
       "1    Air India       1/05/2019   Kolkata    Banglore  CCU → IXR → BBI → BLR   \n",
       "2  Jet Airways       9/06/2019     Delhi      Cochin  DEL → LKO → BOM → COK   \n",
       "3       IndiGo      12/05/2019   Kolkata    Banglore        CCU → NAG → BLR   \n",
       "4       IndiGo      01/03/2019  Banglore   New Delhi        BLR → NAG → DEL   \n",
       "\n",
       "  Dep_Time  Arrival_Time Duration Total_Stops Additional_Info  Price  \n",
       "0    22:20  01:10 22 Mar   2h 50m    non-stop         No info   3897  \n",
       "1    05:50         13:15   7h 25m     2 stops         No info   7662  \n",
       "2    09:25  04:25 10 Jun      19h     2 stops         No info  13882  \n",
       "3    18:05         23:30   5h 25m      1 stop         No info   6218  \n",
       "4    16:50         21:35   4h 45m      1 stop         No info  13302  "
      ]
     },
     "execution_count": 6,
     "metadata": {},
     "output_type": "execute_result"
    }
   ],
   "source": [
    "train.head()"
   ]
  },
  {
   "cell_type": "code",
   "execution_count": 48,
   "metadata": {},
   "outputs": [
    {
     "data": {
      "text/plain": [
       "Airline            0\n",
       "Date_of_Journey    0\n",
       "Source             0\n",
       "Destination        0\n",
       "Route              1\n",
       "Dep_Time           0\n",
       "Arrival_Time       0\n",
       "Duration           0\n",
       "Total_Stops        1\n",
       "Additional_Info    0\n",
       "Price              0\n",
       "dtype: int64"
      ]
     },
     "execution_count": 48,
     "metadata": {},
     "output_type": "execute_result"
    }
   ],
   "source": [
    "train.isna().sum()"
   ]
  },
  {
   "cell_type": "code",
   "execution_count": 49,
   "metadata": {},
   "outputs": [
    {
     "data": {
      "text/plain": [
       "Airline            Jet Airways Business\n",
       "Date_of_Journey              01/03/2019\n",
       "Source                         Banglore\n",
       "Destination                   New Delhi\n",
       "Route                   BLR → BOM → DEL\n",
       "Dep_Time                          05:45\n",
       "Arrival_Time                      11:25\n",
       "Duration                         5h 40m\n",
       "Total_Stops                      1 stop\n",
       "Additional_Info          Business class\n",
       "Price                             79512\n",
       "Name: 2924, dtype: object"
      ]
     },
     "execution_count": 49,
     "metadata": {},
     "output_type": "execute_result"
    }
   ],
   "source": [
    "train.loc[train['Price'].idxmax()]"
   ]
  },
  {
   "cell_type": "code",
   "execution_count": 152,
   "metadata": {},
   "outputs": [],
   "source": [
    "train['Journey_day']=pd.to_datetime(train.Date_of_Journey, format=\"%d/%m/%Y\").dt.day\n",
    "train['Journey_month']=pd.to_datetime(train.Date_of_Journey, format=\"%d/%m/%Y\").dt.month\n",
    "train['Dep_hour']=pd.to_datetime(train.Dep_Time).dt.hour\n",
    "train['Dep_minute']=pd.to_datetime(train.Dep_Time).dt.minute\n",
    "train['Arrival_hour']=pd.to_datetime(train.Arrival_Time).dt.hour\n",
    "train['Arrival_minute']=pd.to_datetime(train.Arrival_Time).dt.minute\n",
    "\n",
    "test['Journey_day']=pd.to_datetime(test.Date_of_Journey, format=\"%d/%m/%Y\").dt.day\n",
    "test['Journey_month']=pd.to_datetime(test.Date_of_Journey, format=\"%d/%m/%Y\").dt.month\n",
    "test['Dep_hour']=pd.to_datetime(test.Dep_Time).dt.hour\n",
    "test['Dep_minute']=pd.to_datetime(test.Dep_Time).dt.minute\n",
    "test['Arrival_hour']=pd.to_datetime(test.Arrival_Time).dt.hour\n",
    "test['Arrival_minute']=pd.to_datetime(test.Arrival_Time).dt.minute"
   ]
  },
  {
   "cell_type": "code",
   "execution_count": 62,
   "metadata": {},
   "outputs": [
    {
     "name": "stdout",
     "output_type": "stream",
     "text": [
      "           Airline Date_of_Journey    Source Destination  \\\n",
      "0           IndiGo      24/03/2019  Banglore   New Delhi   \n",
      "1        Air India       1/05/2019   Kolkata    Banglore   \n",
      "2      Jet Airways       9/06/2019     Delhi      Cochin   \n",
      "3           IndiGo      12/05/2019   Kolkata    Banglore   \n",
      "4           IndiGo      01/03/2019  Banglore   New Delhi   \n",
      "...            ...             ...       ...         ...   \n",
      "10678     Air Asia       9/04/2019   Kolkata    Banglore   \n",
      "10679    Air India      27/04/2019   Kolkata    Banglore   \n",
      "10680  Jet Airways      27/04/2019  Banglore       Delhi   \n",
      "10681      Vistara      01/03/2019  Banglore   New Delhi   \n",
      "10682    Air India       9/05/2019     Delhi      Cochin   \n",
      "\n",
      "                       Route Dep_Time  Arrival_Time Duration Total_Stops  \\\n",
      "0                  BLR → DEL    22:20  01:10 22 Mar   2h 50m    non-stop   \n",
      "1      CCU → IXR → BBI → BLR    05:50         13:15   7h 25m     2 stops   \n",
      "2      DEL → LKO → BOM → COK    09:25  04:25 10 Jun      19h     2 stops   \n",
      "3            CCU → NAG → BLR    18:05         23:30   5h 25m      1 stop   \n",
      "4            BLR → NAG → DEL    16:50         21:35   4h 45m      1 stop   \n",
      "...                      ...      ...           ...      ...         ...   \n",
      "10678              CCU → BLR    19:55         22:25   2h 30m    non-stop   \n",
      "10679              CCU → BLR    20:45         23:20   2h 35m    non-stop   \n",
      "10680              BLR → DEL    08:20         11:20       3h    non-stop   \n",
      "10681              BLR → DEL    11:30         14:10   2h 40m    non-stop   \n",
      "10682  DEL → GOI → BOM → COK    10:55         19:15   8h 20m     2 stops   \n",
      "\n",
      "      Additional_Info  Price  \n",
      "0             No info   3897  \n",
      "1             No info   7662  \n",
      "2             No info  13882  \n",
      "3             No info   6218  \n",
      "4             No info  13302  \n",
      "...               ...    ...  \n",
      "10678         No info   4107  \n",
      "10679         No info   4145  \n",
      "10680         No info   7229  \n",
      "10681         No info  12648  \n",
      "10682         No info  11753  \n",
      "\n",
      "[10683 rows x 11 columns]\n"
     ]
    }
   ],
   "source": [
    "print(train)"
   ]
  },
  {
   "cell_type": "code",
   "execution_count": 153,
   "metadata": {},
   "outputs": [],
   "source": [
    "train['Route']=train['Route'].fillna('No Route')\n",
    "train['Total_Stops']=train['Total_Stops'].fillna('non-stop')\n",
    "test['Route']=test['Route'].fillna('No Route')\n",
    "test['Total_Stops']=test['Total_Stops'].fillna('non-stop')"
   ]
  },
  {
   "cell_type": "code",
   "execution_count": 74,
   "metadata": {},
   "outputs": [
    {
     "data": {
      "text/plain": [
       "Airline            0\n",
       "Date_of_Journey    0\n",
       "Source             0\n",
       "Destination        0\n",
       "Route              0\n",
       "Dep_Time           0\n",
       "Arrival_Time       0\n",
       "Duration           0\n",
       "Total_Stops        0\n",
       "Additional_Info    0\n",
       "Price              0\n",
       "dtype: int64"
      ]
     },
     "execution_count": 74,
     "metadata": {},
     "output_type": "execute_result"
    }
   ],
   "source": [
    "train.isna().sum()"
   ]
  },
  {
   "cell_type": "code",
   "execution_count": 131,
   "metadata": {},
   "outputs": [
    {
     "data": {
      "text/plain": [
       "Airline            0\n",
       "Date_of_Journey    0\n",
       "Source             0\n",
       "Destination        0\n",
       "Route              0\n",
       "Dep_Time           0\n",
       "Arrival_Time       0\n",
       "Duration           0\n",
       "Total_Stops        0\n",
       "Additional_Info    0\n",
       "Journey_day        0\n",
       "Journey_month      0\n",
       "Dep_hour           0\n",
       "Dep_minute         0\n",
       "Arrival_hour       0\n",
       "Arrival_minute     0\n",
       "dtype: int64"
      ]
     },
     "execution_count": 131,
     "metadata": {},
     "output_type": "execute_result"
    }
   ],
   "source": [
    "test.isna().sum()"
   ]
  },
  {
   "cell_type": "code",
   "execution_count": 154,
   "metadata": {},
   "outputs": [],
   "source": [
    "dur=list(train['Duration'])\n",
    "duration_hour=[]\n",
    "duration_min=[]\n",
    "for i in dur:\n",
    "    temp=i.split(' ')\n",
    "    if len(temp)==2:\n",
    "        m=temp[1]\n",
    "        m=m[:-1]\n",
    "    h=temp[0]\n",
    "    h=h[:-1]\n",
    "    duration_hour.append(int(h))\n",
    "    duration_min.append(int(m))\n",
    "train['duration_hour']=duration_hour\n",
    "train['duraiton_minute']=duration_min"
   ]
  },
  {
   "cell_type": "code",
   "execution_count": 155,
   "metadata": {},
   "outputs": [],
   "source": [
    "dur=list(test['Duration'])\n",
    "duration_hour=[]\n",
    "duration_min=[]\n",
    "for i in dur:\n",
    "    temp=i.split(' ')\n",
    "    if len(temp)==2:\n",
    "        m=temp[1]\n",
    "        m=m[:-1]\n",
    "    h=temp[0]\n",
    "    h=h[:-1]\n",
    "    duration_hour.append(int(h))\n",
    "    duration_min.append(int(m))\n",
    "test['duration_hour']=duration_hour\n",
    "test['duraiton_minute']=duration_min"
   ]
  },
  {
   "cell_type": "code",
   "execution_count": 156,
   "metadata": {},
   "outputs": [],
   "source": [
    "from sklearn.preprocessing import LabelEncoder\n",
    "enc=LabelEncoder()\n",
    "train['Destination']=enc.fit_transform(train['Destination'])\n",
    "train['Airline']=enc.fit_transform(train['Airline'])\n",
    "train['Source']=enc.fit_transform(train['Source'])\n",
    "train['Route']=enc.fit_transform(train['Route'])\n",
    "train['Additional_Info']=enc.fit_transform(train['Additional_Info'])\n",
    "train['Total_Stops']=enc.fit_transform(train['Total_Stops'])\n",
    "\n",
    "test['Destination']=enc.fit_transform(test['Destination'])\n",
    "test['Airline']=enc.fit_transform(test['Airline'])\n",
    "test['Source']=enc.fit_transform(test['Source'])\n",
    "test['Route']=enc.fit_transform(test['Route'])\n",
    "test['Additional_Info']=enc.fit_transform(test['Additional_Info'])\n",
    "test['Total_Stops']=enc.fit_transform(test['Total_Stops'])"
   ]
  },
  {
   "cell_type": "code",
   "execution_count": 80,
   "metadata": {},
   "outputs": [
    {
     "name": "stdout",
     "output_type": "stream",
     "text": [
      "Collecting xgboost\n",
      "  Downloading xgboost-1.3.3-py3-none-win_amd64.whl (95.2 MB)\n",
      "Requirement already satisfied: numpy in c:\\users\\lenovo\\anaconda3\\lib\\site-packages (from xgboost) (1.19.2)\n",
      "Requirement already satisfied: scipy in c:\\users\\lenovo\\anaconda3\\lib\\site-packages (from xgboost) (1.5.2)\n",
      "Installing collected packages: xgboost\n",
      "Successfully installed xgboost-1.3.3\n"
     ]
    }
   ],
   "source": [
    "!pip install xgboost"
   ]
  },
  {
   "cell_type": "code",
   "execution_count": 157,
   "metadata": {},
   "outputs": [],
   "source": [
    "X=train.drop(['Price','Date_of_Journey','Dep_Time','Arrival_Time','Duration'],axis=1)\n",
    "Y=train['Price']"
   ]
  },
  {
   "cell_type": "code",
   "execution_count": 158,
   "metadata": {},
   "outputs": [],
   "source": [
    "from sklearn.model_selection import train_test_split\n",
    "X_train,X_test,Y_train,Y_test=train_test_split(X,Y,test_size=0.1)"
   ]
  },
  {
   "cell_type": "markdown",
   "metadata": {},
   "source": [
    "# Using Xgboost Algorithm"
   ]
  },
  {
   "cell_type": "code",
   "execution_count": 164,
   "metadata": {},
   "outputs": [
    {
     "name": "stdout",
     "output_type": "stream",
     "text": [
      "0:00:02.488611\n"
     ]
    }
   ],
   "source": [
    "t1=datetime.now()\n",
    "np.random.seed(10)\n",
    "model = XGBRegressor(\n",
    "      max_depth=7,\n",
    "      n_estimators=500,\n",
    "      min_child_weight=300, \n",
    "      colsample_bytree=0.8, \n",
    "      subsample=0.8, \n",
    "      gamma = 0.005,\n",
    "      eta=0.1,    \n",
    "      seed=42)\n",
    "model.fit(\n",
    "    X_train, \n",
    "    Y_train, \n",
    "    verbose=10,\n",
    "    )\n",
    "t2=datetime.now()\n",
    "print(t2-t1)"
   ]
  },
  {
   "cell_type": "code",
   "execution_count": 165,
   "metadata": {},
   "outputs": [
    {
     "name": "stdout",
     "output_type": "stream",
     "text": [
      "0.8779758546833795 0.8218629662994954\n"
     ]
    }
   ],
   "source": [
    "y_pred_tr=model.predict(X_train)\n",
    "y_pred_test=model.predict(X_test)\n",
    "tr_r2=r2_score(Y_train,y_pred_tr)\n",
    "test_r2=r2_score(Y_test,y_pred_test)\n",
    "print(tr_r2,test_r2)"
   ]
  },
  {
   "cell_type": "code",
   "execution_count": 168,
   "metadata": {},
   "outputs": [],
   "source": [
    "test=test.drop(['Date_of_Journey', 'Dep_Time', 'Arrival_Time', 'Duration'],axis=1)"
   ]
  },
  {
   "cell_type": "code",
   "execution_count": 142,
   "metadata": {},
   "outputs": [
    {
     "data": {
      "text/html": [
       "<div>\n",
       "<style scoped>\n",
       "    .dataframe tbody tr th:only-of-type {\n",
       "        vertical-align: middle;\n",
       "    }\n",
       "\n",
       "    .dataframe tbody tr th {\n",
       "        vertical-align: top;\n",
       "    }\n",
       "\n",
       "    .dataframe thead th {\n",
       "        text-align: right;\n",
       "    }\n",
       "</style>\n",
       "<table border=\"1\" class=\"dataframe\">\n",
       "  <thead>\n",
       "    <tr style=\"text-align: right;\">\n",
       "      <th></th>\n",
       "      <th>Price</th>\n",
       "    </tr>\n",
       "  </thead>\n",
       "  <tbody>\n",
       "    <tr>\n",
       "      <th>0</th>\n",
       "      <td>15998</td>\n",
       "    </tr>\n",
       "    <tr>\n",
       "      <th>1</th>\n",
       "      <td>16612</td>\n",
       "    </tr>\n",
       "    <tr>\n",
       "      <th>2</th>\n",
       "      <td>25572</td>\n",
       "    </tr>\n",
       "    <tr>\n",
       "      <th>3</th>\n",
       "      <td>25778</td>\n",
       "    </tr>\n",
       "    <tr>\n",
       "      <th>4</th>\n",
       "      <td>16934</td>\n",
       "    </tr>\n",
       "  </tbody>\n",
       "</table>\n",
       "</div>"
      ],
      "text/plain": [
       "   Price\n",
       "0  15998\n",
       "1  16612\n",
       "2  25572\n",
       "3  25778\n",
       "4  16934"
      ]
     },
     "execution_count": 142,
     "metadata": {},
     "output_type": "execute_result"
    }
   ],
   "source": [
    "submission.head()"
   ]
  },
  {
   "cell_type": "code",
   "execution_count": 150,
   "metadata": {},
   "outputs": [],
   "source": [
    "final_sub=model.predict(test)\n",
    "submission['Price']=final_sub\n",
    "submission.to_csv('D:\\iSmile Technologies\\Side Projects\\Flight Fare prediction\\Flight_Ticket_Participant_Datasets\\Final_submission_2.csv')"
   ]
  },
  {
   "cell_type": "markdown",
   "metadata": {},
   "source": [
    "# Using Decision Tree"
   ]
  },
  {
   "cell_type": "code",
   "execution_count": 177,
   "metadata": {},
   "outputs": [
    {
     "name": "stdout",
     "output_type": "stream",
     "text": [
      "Max Depth:5 Min sample split:25 0.677454578421339 0.5861778682847757 0.09127671013656335\n",
      "Max Depth:5 Min sample split:50 0.676054803920312 0.591330797690749 0.084724006229563\n",
      "Max Depth:5 Min sample split:100 0.676054803920312 0.5908179407633901 0.08523686315692192\n",
      "Max Depth:5 Min sample split:150 0.676054803920312 0.5908179407633901 0.08523686315692192\n",
      "Max Depth:10 Min sample split:25 0.8627689839377208 0.7908702343760168 0.07189874956170406\n",
      "Max Depth:10 Min sample split:50 0.8516870113005015 0.7764726155928333 0.07521439570766819\n",
      "Max Depth:10 Min sample split:100 0.8346959564431109 0.7612442123829258 0.07345174406018506\n",
      "Max Depth:10 Min sample split:150 0.8188373215085027 0.741150651060763 0.07768667044773969\n",
      "Max Depth:15 Min sample split:25 0.9032595857632943 0.826563112981253 0.07669647278204139\n",
      "Max Depth:15 Min sample split:50 0.8779964363517127 0.8119025624447277 0.06609387390698496\n",
      "Max Depth:15 Min sample split:100 0.8471828326403554 0.7773966330238915 0.06978619961646393\n",
      "Max Depth:15 Min sample split:150 0.8289515994287739 0.7534992710796506 0.0754523283491233\n",
      "Max Depth:20 Min sample split:25 0.9060996475501415 0.8273081783674556 0.07879146918268587\n",
      "Max Depth:20 Min sample split:50 0.8785951551303166 0.8122589422343081 0.06633621289600855\n",
      "Max Depth:20 Min sample split:100 0.847372737847762 0.7763999347372004 0.07097280311056164\n",
      "Max Depth:20 Min sample split:150 0.8290471304791379 0.7535791557786893 0.07546797470044864\n"
     ]
    }
   ],
   "source": [
    "max_depth=[5,10,15,20]\n",
    "min_sample_split=[25,50,100,150]\n",
    "for i in max_depth:\n",
    "    for j in min_sample_split:\n",
    "        model=DecisionTreeRegressor(max_depth=i,min_samples_split=j)\n",
    "        model.fit(X_train,Y_train)\n",
    "        y_pred_tr=model.predict(X_train)\n",
    "        y_pred_test=model.predict(X_test)\n",
    "        tr_r2=r2_score(Y_train,y_pred_tr)\n",
    "        test_r2=r2_score(Y_test,y_pred_test)\n",
    "        print('Max Depth:{} Min sample split:{} {} {} {}'.format(i,j,tr_r2,test_r2,abs(tr_r2-test_r2)))"
   ]
  },
  {
   "cell_type": "code",
   "execution_count": 175,
   "metadata": {},
   "outputs": [
    {
     "data": {
      "text/plain": [
       "DecisionTreeRegressor(max_depth=15, min_samples_split=500)"
      ]
     },
     "execution_count": 175,
     "metadata": {},
     "output_type": "execute_result"
    }
   ],
   "source": [
    "model=DecisionTreeRegressor(max_depth=15,min_samples_split=500)\n",
    "model.fit(X_train,Y_train)"
   ]
  },
  {
   "cell_type": "code",
   "execution_count": 176,
   "metadata": {},
   "outputs": [],
   "source": [
    "final_sub=model.predict(test)\n",
    "submission['Price']=final_sub\n",
    "submission.to_csv('D:\\iSmile Technologies\\Side Projects\\Flight Fare prediction\\Flight_Ticket_Participant_Datasets\\Final_submission_DT.csv')"
   ]
  },
  {
   "cell_type": "code",
   "execution_count": null,
   "metadata": {},
   "outputs": [],
   "source": []
  },
  {
   "cell_type": "markdown",
   "metadata": {},
   "source": [
    "# Using Random Forest Algorithm"
   ]
  },
  {
   "cell_type": "code",
   "execution_count": 183,
   "metadata": {},
   "outputs": [
    {
     "name": "stdout",
     "output_type": "stream",
     "text": [
      "n_estimators:50 Max Depth:10 Min sample split:25 0.9049563876747492 0.8507405037375235 0.05421588393722565\n",
      "n_estimators:50 Max Depth:15 Min sample split:25 0.9131813128364483 0.854066434942674 0.05911487789377434\n",
      "n_estimators:50 Max Depth:20 Min sample split:25 0.9101808617800304 0.8484354550364699 0.06174540674356055\n",
      "n_estimators:50 Max Depth:10 Min sample split:50 0.8774974777022553 0.821085052331516 0.056412425370739316\n",
      "n_estimators:50 Max Depth:15 Min sample split:50 0.8795854534212546 0.8186330069645282 0.06095244645672637\n",
      "n_estimators:50 Max Depth:20 Min sample split:50 0.8850397737392713 0.8261819251912423 0.058857848548029\n",
      "n_estimators:50 Max Depth:10 Min sample split:100 0.8466506188909544 0.7673295777596532 0.07932104113130123\n",
      "n_estimators:50 Max Depth:15 Min sample split:100 0.8470328384819977 0.7714071554610448 0.07562568302095296\n",
      "n_estimators:50 Max Depth:20 Min sample split:100 0.8468728258030475 0.7742171988178276 0.07265562698521988\n",
      "n_estimators:50 Max Depth:10 Min sample split:150 0.7957721718773458 0.7501748898121593 0.04559728206518654\n",
      "n_estimators:50 Max Depth:15 Min sample split:150 0.8108338760591877 0.7593767813106392 0.051457094748548426\n",
      "n_estimators:50 Max Depth:20 Min sample split:150 0.8127213013864385 0.7566163862306755 0.05610491515576299\n",
      "\n",
      "\n",
      "n_estimators:100 Max Depth:10 Min sample split:25 0.9078027392752941 0.8384550818287108 0.06934765744658333\n",
      "n_estimators:100 Max Depth:15 Min sample split:25 0.9064136626070762 0.8455180614795669 0.06089560112750936\n",
      "n_estimators:100 Max Depth:20 Min sample split:25 0.9112858824781316 0.8394543776144228 0.07183150486370882\n",
      "n_estimators:100 Max Depth:10 Min sample split:50 0.8730290696738388 0.7982176367952583 0.0748114328785805\n",
      "n_estimators:100 Max Depth:15 Min sample split:50 0.8760198757520571 0.8108683742659295 0.06515150148612758\n",
      "n_estimators:100 Max Depth:20 Min sample split:50 0.8859574402595867 0.8183619917502303 0.06759544850935639\n",
      "n_estimators:100 Max Depth:10 Min sample split:100 0.8468747458636907 0.7813523961889883 0.06552234967470238\n",
      "n_estimators:100 Max Depth:15 Min sample split:100 0.849486925081465 0.7833585682923048 0.06612835678916018\n",
      "n_estimators:100 Max Depth:20 Min sample split:100 0.8449636829446318 0.7743271488406054 0.07063653410402637\n",
      "n_estimators:100 Max Depth:10 Min sample split:150 0.808958540803959 0.7608707002359304 0.04808784056802862\n",
      "n_estimators:100 Max Depth:15 Min sample split:150 0.8094084613176135 0.7542505662173904 0.055157895100223064\n",
      "n_estimators:100 Max Depth:20 Min sample split:150 0.8104372136634976 0.7564374343549066 0.05399977930859101\n",
      "\n",
      "\n",
      "n_estimators:150 Max Depth:10 Min sample split:25 0.9106994735450025 0.8569137492416843 0.05378572430331818\n",
      "n_estimators:150 Max Depth:15 Min sample split:25 0.9070630718762098 0.852961901666412 0.05410117020979788\n",
      "n_estimators:150 Max Depth:20 Min sample split:25 0.9092192164167687 0.8487947001315983 0.060424516285170426\n",
      "n_estimators:150 Max Depth:10 Min sample split:50 0.8784369905730048 0.8207094306440914 0.05772755992891343\n",
      "n_estimators:150 Max Depth:15 Min sample split:50 0.8824921878299187 0.8222405995817802 0.06025158824813848\n",
      "n_estimators:150 Max Depth:20 Min sample split:50 0.8819020364630992 0.8205427189045731 0.06135931755852608\n",
      "n_estimators:150 Max Depth:10 Min sample split:100 0.8440357807863073 0.7728638534929961 0.07117192729331112\n",
      "n_estimators:150 Max Depth:15 Min sample split:100 0.8448247970673988 0.7739133765745723 0.0709114204928265\n",
      "n_estimators:150 Max Depth:20 Min sample split:100 0.844628825622811 0.7783355840022064 0.06629324162060468\n",
      "n_estimators:150 Max Depth:10 Min sample split:150 0.8019179860365178 0.7538570361031957 0.048060949933322106\n",
      "n_estimators:150 Max Depth:15 Min sample split:150 0.8159576047919418 0.7593753617884651 0.056582243003476695\n",
      "n_estimators:150 Max Depth:20 Min sample split:150 0.8067406526214369 0.751388405931184 0.05535224669025296\n",
      "\n",
      "\n",
      "n_estimators:200 Max Depth:10 Min sample split:25 0.9068081840625971 0.8476914355340773 0.05911674852851978\n",
      "n_estimators:200 Max Depth:15 Min sample split:25 0.9056497771014235 0.8523893259577087 0.053260451143714804\n",
      "n_estimators:200 Max Depth:20 Min sample split:25 0.9096548391926147 0.8529366814021788 0.056718157790435875\n",
      "n_estimators:200 Max Depth:10 Min sample split:50 0.8825758514145214 0.81833797087045 0.06423788054407142\n",
      "n_estimators:200 Max Depth:15 Min sample split:50 0.8801939236046765 0.8195247471017417 0.060669176502934796\n",
      "n_estimators:200 Max Depth:20 Min sample split:50 0.8823641476801112 0.8273759165562502 0.054988231123860976\n",
      "n_estimators:200 Max Depth:10 Min sample split:100 0.8461623899580415 0.7801364554096583 0.06602593454838324\n",
      "n_estimators:200 Max Depth:15 Min sample split:100 0.8465225460059604 0.7797373897683059 0.06678515623765457\n",
      "n_estimators:200 Max Depth:20 Min sample split:100 0.845927395972104 0.7794088333540883 0.0665185626180157\n",
      "n_estimators:200 Max Depth:10 Min sample split:150 0.8104030988111688 0.753622666319523 0.05678043249164577\n",
      "n_estimators:200 Max Depth:15 Min sample split:150 0.8026103015669664 0.7564441424077171 0.046166159159249376\n",
      "n_estimators:200 Max Depth:20 Min sample split:150 0.8183720645695935 0.7593510484953996 0.059021016074193966\n",
      "\n",
      "\n",
      "n_estimators:500 Max Depth:10 Min sample split:25 0.9075367679299764 0.8507095047140628 0.05682726321591358\n",
      "n_estimators:500 Max Depth:15 Min sample split:25 0.9109691127607762 0.849665802161977 0.06130331059879923\n",
      "n_estimators:500 Max Depth:20 Min sample split:25 0.9134875986266573 0.8577611555124942 0.05572644311416308\n",
      "n_estimators:500 Max Depth:10 Min sample split:50 0.8804574005621225 0.8149368073858534 0.06552059317626913\n",
      "n_estimators:500 Max Depth:15 Min sample split:50 0.8783952273063866 0.8177576341305411 0.060637593175845494\n",
      "n_estimators:500 Max Depth:20 Min sample split:50 0.8809158467383009 0.8153979522282035 0.06551789451009737\n",
      "n_estimators:500 Max Depth:10 Min sample split:100 0.8421414386206295 0.7728958891420934 0.06924554947853612\n",
      "n_estimators:500 Max Depth:15 Min sample split:100 0.8434820288120506 0.7713254014081974 0.0721566274038532\n",
      "n_estimators:500 Max Depth:20 Min sample split:100 0.8460381048733154 0.7795129308325967 0.06652517404071878\n",
      "n_estimators:500 Max Depth:10 Min sample split:150 0.8135833335042761 0.7583465038743166 0.05523682962995957\n",
      "n_estimators:500 Max Depth:15 Min sample split:150 0.8142464890435 0.7566381879235834 0.05760830111991666\n",
      "n_estimators:500 Max Depth:20 Min sample split:150 0.818053848067017 0.7629861476218517 0.05506770044516529\n",
      "\n",
      "\n",
      "n_estimators:1000 Max Depth:10 Min sample split:25 0.9049604298092974 0.8430131479926245 0.06194728181667286\n",
      "n_estimators:1000 Max Depth:15 Min sample split:25 0.9028476567307299 0.8477419262360363 0.05510573049469358\n",
      "n_estimators:1000 Max Depth:20 Min sample split:25 0.9085159237042009 0.8515889923414864 0.05692693136271443\n",
      "n_estimators:1000 Max Depth:10 Min sample split:50 0.8762080353138061 0.8159779636810641 0.060230071632741966\n",
      "n_estimators:1000 Max Depth:15 Min sample split:50 0.8790692844382665 0.817537417689604 0.06153186674866251\n",
      "n_estimators:1000 Max Depth:20 Min sample split:50 0.8790263452074027 0.824948008256906 0.0540783369504968\n",
      "n_estimators:1000 Max Depth:10 Min sample split:100 0.8425075940138183 0.772274283698931 0.07023331031488722\n",
      "n_estimators:1000 Max Depth:15 Min sample split:100 0.8400578423128586 0.7623208599858544 0.07773698232700421\n",
      "n_estimators:1000 Max Depth:20 Min sample split:100 0.8476426995379088 0.7742895661149313 0.07335313342297756\n",
      "n_estimators:1000 Max Depth:10 Min sample split:150 0.8029701320498047 0.7531687170671886 0.04980141498261614\n",
      "n_estimators:1000 Max Depth:15 Min sample split:150 0.8206677918491437 0.7511439317381935 0.06952386011095024\n",
      "n_estimators:1000 Max Depth:20 Min sample split:150 0.8136316304488455 0.7562382458730875 0.05739338457575793\n",
      "\n",
      "\n"
     ]
    }
   ],
   "source": [
    "max_depth=[10,15,20]\n",
    "min_sample_split=[25,50,100,150]\n",
    "n_estimators=[50,100,150,200,500,1000]\n",
    "for i in n_estimators:\n",
    "    for j in min_sample_split:\n",
    "        for k in max_depth:\n",
    "            model=RandomForestRegressor(n_estimators=k,max_depth=i,min_samples_split=j)\n",
    "            model.fit(X_train,Y_train)\n",
    "            y_pred_tr=model.predict(X_train)\n",
    "            y_pred_test=model.predict(X_test)\n",
    "            tr_r2=r2_score(Y_train,y_pred_tr)\n",
    "            test_r2=r2_score(Y_test,y_pred_test)\n",
    "            print('n_estimators:{} Max Depth:{} Min sample split:{} {} {} {}'.format(i,k,j,tr_r2,test_r2,abs(tr_r2-test_r2)))\n",
    "    print('\\n')"
   ]
  },
  {
   "cell_type": "code",
   "execution_count": 184,
   "metadata": {},
   "outputs": [
    {
     "data": {
      "text/plain": [
       "RandomForestRegressor(max_depth=15, min_samples_split=25, n_estimators=200)"
      ]
     },
     "execution_count": 184,
     "metadata": {},
     "output_type": "execute_result"
    }
   ],
   "source": [
    "model=RandomForestRegressor(n_estimators=200,max_depth=15,min_samples_split=25)\n",
    "model.fit(X_train,Y_train)"
   ]
  },
  {
   "cell_type": "code",
   "execution_count": 185,
   "metadata": {},
   "outputs": [],
   "source": [
    "final_sub=model.predict(test)\n",
    "submission['Price']=final_sub\n",
    "submission.to_csv('D:\\iSmile Technologies\\Side Projects\\Flight Fare prediction\\Flight_Ticket_Participant_Datasets\\Final_submission_randomforest.csv')"
   ]
  }
 ],
 "metadata": {
  "kernelspec": {
   "display_name": "Python 3",
   "language": "python",
   "name": "python3"
  },
  "language_info": {
   "codemirror_mode": {
    "name": "ipython",
    "version": 3
   },
   "file_extension": ".py",
   "mimetype": "text/x-python",
   "name": "python",
   "nbconvert_exporter": "python",
   "pygments_lexer": "ipython3",
   "version": "3.8.5"
  }
 },
 "nbformat": 4,
 "nbformat_minor": 4
}
